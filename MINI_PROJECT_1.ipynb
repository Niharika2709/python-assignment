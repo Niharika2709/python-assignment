{
  "nbformat": 4,
  "nbformat_minor": 0,
  "metadata": {
    "colab": {
      "provenance": [],
      "authorship_tag": "ABX9TyMCjatMQ+FiONkH8l0I2bKX",
      "include_colab_link": true
    },
    "kernelspec": {
      "name": "python3",
      "display_name": "Python 3"
    },
    "language_info": {
      "name": "python"
    }
  },
  "cells": [
    {
      "cell_type": "markdown",
      "metadata": {
        "id": "view-in-github",
        "colab_type": "text"
      },
      "source": [
        "<a href=\"https://colab.research.google.com/github/Niharika2709/python-assignment/blob/main/MINI_PROJECT_1.ipynb\" target=\"_parent\"><img src=\"https://colab.research.google.com/assets/colab-badge.svg\" alt=\"Open In Colab\"/></a>"
      ]
    },
    {
      "cell_type": "markdown",
      "source": [
        "# *Q1. L is a list defined as L= [11, 12, 13, 14].*"
      ],
      "metadata": {
        "id": "aYGz4vZ6Nb4b"
      }
    },
    {
      "cell_type": "code",
      "source": [
        "L = [11,12,13,14]\n",
        "print (\"Original List  --> \", L)"
      ],
      "metadata": {
        "colab": {
          "base_uri": "https://localhost:8080/"
        },
        "id": "XSKjEbZyN6C9",
        "outputId": "945bcb15-5e47-4c1a-f5a7-016f49d5dc44"
      },
      "execution_count": null,
      "outputs": [
        {
          "output_type": "stream",
          "name": "stdout",
          "text": [
            "Original List  -->  [11, 12, 13, 14]\n"
          ]
        }
      ]
    },
    {
      "cell_type": "markdown",
      "source": [
        "(i) WAP to add 50 and 60 to L."
      ],
      "metadata": {
        "id": "N08Lt4WoOU6G"
      }
    },
    {
      "cell_type": "code",
      "source": [
        "L.append(50)\n",
        "L.append(60)\n",
        "print(\"(i) List After Adding  --> \", L)"
      ],
      "metadata": {
        "colab": {
          "base_uri": "https://localhost:8080/"
        },
        "id": "TcJ7Z1MKOhD2",
        "outputId": "0f5b7fd0-850a-4c83-95ba-d1cfb2f658e8"
      },
      "execution_count": null,
      "outputs": [
        {
          "output_type": "stream",
          "name": "stdout",
          "text": [
            "(i) List After Adding  -->  [11, 12, 13, 14, 50, 60]\n"
          ]
        }
      ]
    },
    {
      "cell_type": "markdown",
      "source": [
        "(ii) WAP to remove 11 and 13from L."
      ],
      "metadata": {
        "id": "KiC0lvBDPNg8"
      }
    },
    {
      "cell_type": "code",
      "source": [
        "del L[0],L[2]\n",
        "print (\"(ii) List After Deleting --> \", L)"
      ],
      "metadata": {
        "colab": {
          "base_uri": "https://localhost:8080/"
        },
        "id": "Yuw9VJeCPjSy",
        "outputId": "41695e16-8a01-4d55-f377-b4a3982321bd"
      },
      "execution_count": null,
      "outputs": [
        {
          "output_type": "stream",
          "name": "stdout",
          "text": [
            "(ii) List After Deleting -->  [12, 13, 50, 60]\n"
          ]
        }
      ]
    },
    {
      "cell_type": "markdown",
      "source": [
        "(iii) WAP to sort L in ascending order"
      ],
      "metadata": {
        "id": "ddIOJ4TnRaru"
      }
    },
    {
      "cell_type": "code",
      "source": [
        "L.sort()\n",
        "print(\"(iii) After sorting in ascending order --> \", L)"
      ],
      "metadata": {
        "colab": {
          "base_uri": "https://localhost:8080/"
        },
        "id": "cCjsFQINReDb",
        "outputId": "8a73384e-86ea-409f-c450-993ab68271e6"
      },
      "execution_count": null,
      "outputs": [
        {
          "output_type": "stream",
          "name": "stdout",
          "text": [
            "(iii) After sorting in ascending order -->  [11, 12, 13, 14, 50, 60]\n"
          ]
        }
      ]
    },
    {
      "cell_type": "markdown",
      "source": [
        "(iv) WAP to sort L in descending order.\n"
      ],
      "metadata": {
        "id": "TYdLCEsyTIgv"
      }
    },
    {
      "cell_type": "code",
      "source": [
        "L.sort(reverse=True)\n",
        "print(\"(iv) After sorting in descending order --> \", L)"
      ],
      "metadata": {
        "colab": {
          "base_uri": "https://localhost:8080/"
        },
        "id": "icv_vNsiTKuT",
        "outputId": "26d40996-b832-4522-f76c-667b71b2306d"
      },
      "execution_count": null,
      "outputs": [
        {
          "output_type": "stream",
          "name": "stdout",
          "text": [
            "(iv) After sorting in descending order -->  [60, 50, 13, 12]\n"
          ]
        }
      ]
    },
    {
      "cell_type": "markdown",
      "source": [
        "(v) WAP to search for 13 in L.\n"
      ],
      "metadata": {
        "id": "y5WhUIUPTitY"
      }
    },
    {
      "cell_type": "code",
      "source": [
        "print (\"Original List --> \", 13 in L)\n",
        "if (13 in L) == True:\n",
        "\tprint (\"Present\")\n",
        "else:\n",
        "\tprint (\"Not Present\")"
      ],
      "metadata": {
        "colab": {
          "base_uri": "https://localhost:8080/"
        },
        "id": "y1CLZfjOTpVx",
        "outputId": "a9af9566-8f98-4293-fa95-f17d4862d6f5"
      },
      "execution_count": null,
      "outputs": [
        {
          "output_type": "stream",
          "name": "stdout",
          "text": [
            "Original List -->  True\n",
            "Present\n"
          ]
        }
      ]
    },
    {
      "cell_type": "markdown",
      "source": [
        "(vi) WAP to count the number of elements present in L."
      ],
      "metadata": {
        "id": "1sfFIcffUgce"
      }
    },
    {
      "cell_type": "code",
      "source": [
        "print (\"Original List: \", L)\n",
        "print (\"Number of elements in list: \", len(L))"
      ],
      "metadata": {
        "colab": {
          "base_uri": "https://localhost:8080/"
        },
        "id": "W84IM2cKUjks",
        "outputId": "e78a1aad-7055-429b-eb31-7618acb546a4"
      },
      "execution_count": null,
      "outputs": [
        {
          "output_type": "stream",
          "name": "stdout",
          "text": [
            "Original List:  [60, 50, 14, 13, 12, 11]\n",
            "Number of elements in list:  6\n"
          ]
        }
      ]
    },
    {
      "cell_type": "markdown",
      "source": [
        "(vii) WAP to sum all the elements in L."
      ],
      "metadata": {
        "id": "7C--RJ_sUvti"
      }
    },
    {
      "cell_type": "code",
      "source": [
        "print (\"Sum     --> \", sum(L))"
      ],
      "metadata": {
        "colab": {
          "base_uri": "https://localhost:8080/"
        },
        "id": "8GercOFHUxz1",
        "outputId": "e08d8899-e483-499b-f9b3-a07a4b45ec11"
      },
      "execution_count": null,
      "outputs": [
        {
          "output_type": "stream",
          "name": "stdout",
          "text": [
            "Sum     -->  160\n"
          ]
        }
      ]
    },
    {
      "cell_type": "markdown",
      "source": [
        "(viii) WAP to sum all ODD numbers in L."
      ],
      "metadata": {
        "id": "YHWbiXeBU9Hd"
      }
    },
    {
      "cell_type": "code",
      "source": [
        "L= [11, 12, 13, 14, 50, 60]\n",
        "sum = 0\n",
        "for number in L:\n",
        "    if number % 2 != 0:\n",
        "        sum = sum + number\n",
        "\n",
        "print(\"Sum of odd numbers:\", sum)"
      ],
      "metadata": {
        "colab": {
          "base_uri": "https://localhost:8080/"
        },
        "id": "ok7-WaM1VA0-",
        "outputId": "8fe5a71f-bd83-4724-c6f1-de8cd5667f00"
      },
      "execution_count": null,
      "outputs": [
        {
          "output_type": "stream",
          "name": "stdout",
          "text": [
            "Sum of odd numbers: 24\n"
          ]
        }
      ]
    },
    {
      "cell_type": "markdown",
      "source": [
        "(ix) WAP to sum all EVEN numbers in L."
      ],
      "metadata": {
        "id": "aewLQVl-48F-"
      }
    },
    {
      "cell_type": "code",
      "source": [
        "L= [11, 12, 13, 14, 50, 60]\n",
        "sum = 0\n",
        "for number in L:\n",
        "    if number % 2 == 0:\n",
        "        sum = sum + number\n",
        "\n",
        "print(\"Sum of even numbers:\", sum)"
      ],
      "metadata": {
        "colab": {
          "base_uri": "https://localhost:8080/"
        },
        "id": "n_oGLY_k5Azo",
        "outputId": "2b51e540-103d-414e-c3ab-b19cea0b8014"
      },
      "execution_count": null,
      "outputs": [
        {
          "output_type": "stream",
          "name": "stdout",
          "text": [
            "Sum of even numbers: 136\n"
          ]
        }
      ]
    },
    {
      "cell_type": "markdown",
      "source": [
        "(x) WAP to sum all PRIME numbers in L."
      ],
      "metadata": {
        "id": "PNxwR4bD5Lcx"
      }
    },
    {
      "cell_type": "code",
      "source": [
        "L= [11, 12, 13, 14, 50, 60]\n",
        "sum = 0\n",
        "for number in L:\n",
        "        prime = True\n",
        "        for i in range(2,number//2 + 1):\n",
        "            if number % i == 0:\n",
        "                prime = False\n",
        "                break\n",
        "        if prime:\n",
        "            sum = sum + number\n",
        "\n",
        "print(\"Sum of prime numbers:\", sum)\n"
      ],
      "metadata": {
        "colab": {
          "base_uri": "https://localhost:8080/"
        },
        "id": "yLND8NI45OnB",
        "outputId": "7e6cbc56-f148-4eaf-8bdc-25b86077d8df"
      },
      "execution_count": null,
      "outputs": [
        {
          "output_type": "stream",
          "name": "stdout",
          "text": [
            "Sum of prime numbers: 24\n"
          ]
        }
      ]
    },
    {
      "cell_type": "markdown",
      "source": [
        "(xi) WAP to clear all the elements in L."
      ],
      "metadata": {
        "id": "Y0VhT_IS9SL-"
      }
    },
    {
      "cell_type": "code",
      "source": [
        "L= [11, 12, 13, 14, 50, 60]\n",
        "L.clear()\n",
        "print (\"After Clear --> \", L)"
      ],
      "metadata": {
        "colab": {
          "base_uri": "https://localhost:8080/"
        },
        "id": "TzlzKZVa9YBf",
        "outputId": "7ffea46a-7b09-4997-e804-1d866d73bbd1"
      },
      "execution_count": null,
      "outputs": [
        {
          "output_type": "stream",
          "name": "stdout",
          "text": [
            "After Clear -->  []\n"
          ]
        }
      ]
    },
    {
      "cell_type": "markdown",
      "source": [
        "(xii) WAP to delete L."
      ],
      "metadata": {
        "id": "_UbXaruqtuCt"
      }
    },
    {
      "cell_type": "code",
      "source": [
        "L= [11, 12, 13, 14, 50, 60]\n",
        "del(L)\n",
        "print (\"After del --> \", L)"
      ],
      "metadata": {
        "colab": {
          "base_uri": "https://localhost:8080/",
          "height": 176
        },
        "id": "nSdw9RmStwqE",
        "outputId": "397bd1be-cafe-44ae-ad09-79eecbbc387d"
      },
      "execution_count": null,
      "outputs": [
        {
          "output_type": "error",
          "ename": "NameError",
          "evalue": "name 'L' is not defined",
          "traceback": [
            "\u001b[0;31m---------------------------------------------------------------------------\u001b[0m",
            "\u001b[0;31mNameError\u001b[0m                                 Traceback (most recent call last)",
            "\u001b[0;32m<ipython-input-326-1223579674>\u001b[0m in \u001b[0;36m<cell line: 0>\u001b[0;34m()\u001b[0m\n\u001b[1;32m      1\u001b[0m \u001b[0mL\u001b[0m\u001b[0;34m=\u001b[0m \u001b[0;34m[\u001b[0m\u001b[0;36m11\u001b[0m\u001b[0;34m,\u001b[0m \u001b[0;36m12\u001b[0m\u001b[0;34m,\u001b[0m \u001b[0;36m13\u001b[0m\u001b[0;34m,\u001b[0m \u001b[0;36m14\u001b[0m\u001b[0;34m,\u001b[0m \u001b[0;36m50\u001b[0m\u001b[0;34m,\u001b[0m \u001b[0;36m60\u001b[0m\u001b[0;34m]\u001b[0m\u001b[0;34m\u001b[0m\u001b[0;34m\u001b[0m\u001b[0m\n\u001b[1;32m      2\u001b[0m \u001b[0;32mdel\u001b[0m\u001b[0;34m(\u001b[0m\u001b[0mL\u001b[0m\u001b[0;34m)\u001b[0m\u001b[0;34m\u001b[0m\u001b[0;34m\u001b[0m\u001b[0m\n\u001b[0;32m----> 3\u001b[0;31m \u001b[0mprint\u001b[0m \u001b[0;34m(\u001b[0m\u001b[0;34m\"After del --> \"\u001b[0m\u001b[0;34m,\u001b[0m \u001b[0mL\u001b[0m\u001b[0;34m)\u001b[0m\u001b[0;34m\u001b[0m\u001b[0;34m\u001b[0m\u001b[0m\n\u001b[0m",
            "\u001b[0;31mNameError\u001b[0m: name 'L' is not defined"
          ]
        }
      ]
    },
    {
      "cell_type": "markdown",
      "source": [
        "# *Q2. D is a dictionary defined as D= {1:5.6, 2:7.8, 3:6.6, 4:8.7, 5:7.7}.*\n"
      ],
      "metadata": {
        "id": "_Ms7FSKwUIkF"
      }
    },
    {
      "cell_type": "code",
      "source": [
        "D= {1:5.6, 2:7.8, 3:6.6, 4:8.7, 5:7.7}\n",
        "print(\"given dictionary --> \", D)"
      ],
      "metadata": {
        "colab": {
          "base_uri": "https://localhost:8080/"
        },
        "id": "NV2mFrvw_sg5",
        "outputId": "6c3e6e75-231b-4ec2-bd83-448c717fbb16"
      },
      "execution_count": null,
      "outputs": [
        {
          "output_type": "stream",
          "name": "stdout",
          "text": [
            "given dictionary -->  {1: 5.6, 2: 7.8, 3: 6.6, 4: 8.7, 5: 7.7}\n"
          ]
        }
      ]
    },
    {
      "cell_type": "markdown",
      "source": [
        "(i) WAP to add new entry in D; key=8 and value is 8.8\n"
      ],
      "metadata": {
        "id": "rgU3PrtK-o2Q"
      }
    },
    {
      "cell_type": "code",
      "source": [
        "D[8] = 8.8\n",
        "print (\"After Adding key  --> \", D)"
      ],
      "metadata": {
        "colab": {
          "base_uri": "https://localhost:8080/"
        },
        "id": "Na7gN77W-ujr",
        "outputId": "36a214d8-87a1-4cc0-ccca-ee6c8254893a"
      },
      "execution_count": null,
      "outputs": [
        {
          "output_type": "stream",
          "name": "stdout",
          "text": [
            "After Adding key  -->  {1: 5.6, 2: 7.8, 3: 6.6, 4: 8.7, 5: 7.7, 8: 8.8}\n"
          ]
        }
      ]
    },
    {
      "cell_type": "markdown",
      "source": [
        "(ii) WAP to remove key=2."
      ],
      "metadata": {
        "id": "gScVvKFS_9DQ"
      }
    },
    {
      "cell_type": "code",
      "source": [
        "D= {1: 5.6, 2: 7.8, 3: 6.6, 4: 8.7, 5: 7.7, 8: 8.8}\n",
        "del D[2]\n",
        "print (\"After Deleting key --> \", D)"
      ],
      "metadata": {
        "colab": {
          "base_uri": "https://localhost:8080/"
        },
        "id": "8GoypNgrDfcZ",
        "outputId": "588a220b-be3d-42ff-d8e6-27b4745aae8d"
      },
      "execution_count": null,
      "outputs": [
        {
          "output_type": "stream",
          "name": "stdout",
          "text": [
            "After Deleting key -->  {1: 5.6, 3: 6.6, 4: 8.7, 5: 7.7, 8: 8.8}\n"
          ]
        }
      ]
    },
    {
      "cell_type": "markdown",
      "source": [
        "(iii) WAP to check weather 6 key is present in D."
      ],
      "metadata": {
        "id": "2gzZ8QudEgfF"
      }
    },
    {
      "cell_type": "code",
      "source": [
        "print (\"Is Key 6 Present    --> \", 6 in D)"
      ],
      "metadata": {
        "colab": {
          "base_uri": "https://localhost:8080/"
        },
        "id": "rewM29fkEly9",
        "outputId": "99ec07f9-cced-47f9-ad0a-00f5142dc981"
      },
      "execution_count": null,
      "outputs": [
        {
          "output_type": "stream",
          "name": "stdout",
          "text": [
            "Is Key 6 Present    -->  False\n"
          ]
        }
      ]
    },
    {
      "cell_type": "markdown",
      "source": [
        "(iv) WAP to count the number of elements present in D."
      ],
      "metadata": {
        "id": "fkn5RKIsE3sU"
      }
    },
    {
      "cell_type": "code",
      "source": [
        "print (\"Number of elements --> \", len(D))"
      ],
      "metadata": {
        "colab": {
          "base_uri": "https://localhost:8080/"
        },
        "id": "jWhd7-SXE5S_",
        "outputId": "ab42ac68-16f3-490b-dae2-b7e6de00b996"
      },
      "execution_count": null,
      "outputs": [
        {
          "output_type": "stream",
          "name": "stdout",
          "text": [
            "Number of elements -->  5\n"
          ]
        }
      ]
    },
    {
      "cell_type": "markdown",
      "source": [
        "(v) WAP to add all the values present D.\n"
      ],
      "metadata": {
        "id": "6Zt8u2NmFVdU"
      }
    },
    {
      "cell_type": "code",
      "source": [
        "total = sum(float(v) for v in D.values())\n",
        "\n",
        "print(\"Sum of values:\",total)"
      ],
      "metadata": {
        "colab": {
          "base_uri": "https://localhost:8080/"
        },
        "id": "vJUb7CD5FWmq",
        "outputId": "57eaee06-6fa2-471a-c0f7-727bce9df0f0"
      },
      "execution_count": null,
      "outputs": [
        {
          "output_type": "stream",
          "name": "stdout",
          "text": [
            "Sum of values: 37.4\n"
          ]
        }
      ]
    },
    {
      "cell_type": "markdown",
      "source": [
        "(vi) WAP to update the value of 3 to 7.1.\n"
      ],
      "metadata": {
        "id": "Om1gGttlJf-x"
      }
    },
    {
      "cell_type": "code",
      "source": [
        "D[3] = 7.1\n",
        "print (\"After Updating  --> \", D)"
      ],
      "metadata": {
        "colab": {
          "base_uri": "https://localhost:8080/"
        },
        "id": "CSSGTJ7YJmrM",
        "outputId": "d04e3612-a7ea-48e4-bc50-5ce0e25d241c"
      },
      "execution_count": null,
      "outputs": [
        {
          "output_type": "stream",
          "name": "stdout",
          "text": [
            "After Updating  -->  {1: 5.6, 3: 7.1, 4: 8.7, 5: 7.7, 8: 8.8}\n"
          ]
        }
      ]
    },
    {
      "cell_type": "markdown",
      "source": [
        "(vii) WAP to clear the dictionary."
      ],
      "metadata": {
        "id": "aGwfYEybJ47_"
      }
    },
    {
      "cell_type": "code",
      "source": [
        "D.clear()\n",
        "print (\"After Clear  --> \", D)\n"
      ],
      "metadata": {
        "colab": {
          "base_uri": "https://localhost:8080/"
        },
        "id": "rq29qSwUJ-J0",
        "outputId": "02ce5379-583b-48cd-9d5d-b631c527cf5a"
      },
      "execution_count": null,
      "outputs": [
        {
          "output_type": "stream",
          "name": "stdout",
          "text": [
            "After Clear  -->  {}\n"
          ]
        }
      ]
    },
    {
      "cell_type": "markdown",
      "source": [
        "# *Q3. S1 is a set defined as S1= [10, 20, 30, 40, 50, 60]    S2 is a set defined as S2= [40, 50, 60, 70, 80, 90].*\n"
      ],
      "metadata": {
        "id": "HfcX54pvKFib"
      }
    },
    {
      "cell_type": "code",
      "source": [
        "S1= {10, 20, 30, 40, 50, 60}\n",
        "S2= {40, 50, 60, 70, 80, 90}\n",
        "print(\"Given set1 is : \",S1)\n",
        "print(\"Given set2 is : \",S2)"
      ],
      "metadata": {
        "colab": {
          "base_uri": "https://localhost:8080/"
        },
        "id": "r9_wbo8iK2dQ",
        "outputId": "014d23ea-0932-423c-9cf1-4d060b669b00"
      },
      "execution_count": null,
      "outputs": [
        {
          "output_type": "stream",
          "name": "stdout",
          "text": [
            "Given set1 is :  {50, 20, 40, 10, 60, 30}\n",
            "Given set2 is :  {80, 50, 70, 40, 90, 60}\n"
          ]
        }
      ]
    },
    {
      "cell_type": "markdown",
      "source": [
        "(i) WAP to add 55 and 66 in Set S1."
      ],
      "metadata": {
        "id": "lqKcxTQNLYOL"
      }
    },
    {
      "cell_type": "code",
      "source": [
        "S1= {10, 20, 30, 40, 50, 60}\n",
        "S1.add(55)\n",
        "S1.add(66)\n",
        "print(\"Given set1 is : \",S1)\n"
      ],
      "metadata": {
        "colab": {
          "base_uri": "https://localhost:8080/"
        },
        "id": "Z0lyfPW_Pvm0",
        "outputId": "0c979f47-c3e2-4ad2-a3d0-0a77786f5a71"
      },
      "execution_count": null,
      "outputs": [
        {
          "output_type": "stream",
          "name": "stdout",
          "text": [
            "Given set1 is :  {50, 66, 20, 55, 40, 10, 60, 30}\n"
          ]
        }
      ]
    },
    {
      "cell_type": "markdown",
      "source": [
        "(ii) WAP to remove 10 and 30 from Set S1."
      ],
      "metadata": {
        "id": "UYAIA1A8QCCh"
      }
    },
    {
      "cell_type": "code",
      "source": [
        "S1= {10, 20, 30, 40, 50, 60}\n",
        "S1.remove(10)\n",
        "S1.remove(30)\n",
        "print(\"Given set1 is : \",S1)"
      ],
      "metadata": {
        "colab": {
          "base_uri": "https://localhost:8080/"
        },
        "id": "zFPcKkqMQHrM",
        "outputId": "98876bf2-4c86-4acb-d7e1-00086e63a3c2"
      },
      "execution_count": null,
      "outputs": [
        {
          "output_type": "stream",
          "name": "stdout",
          "text": [
            "Given set1 is :  {50, 20, 40, 60}\n"
          ]
        }
      ]
    },
    {
      "cell_type": "markdown",
      "source": [
        "(iii) WAP to check whether 40 is present in S1."
      ],
      "metadata": {
        "id": "SRzZLknUQ-4s"
      }
    },
    {
      "cell_type": "code",
      "source": [
        "if 40 in S1:\n",
        "    print(\"40 is present in S1.\")\n",
        "else:\n",
        "    print(\"40 is not present in S1.\")"
      ],
      "metadata": {
        "colab": {
          "base_uri": "https://localhost:8080/"
        },
        "id": "cUYnJVt-Q_39",
        "outputId": "60e1785e-5d25-401b-ae2e-64e8262abcc1"
      },
      "execution_count": null,
      "outputs": [
        {
          "output_type": "stream",
          "name": "stdout",
          "text": [
            "40 is present in S1.\n"
          ]
        }
      ]
    },
    {
      "cell_type": "markdown",
      "source": [
        "(iv) WAP to find the union between S1 and S2."
      ],
      "metadata": {
        "id": "WlDKdo6uRVHv"
      }
    },
    {
      "cell_type": "code",
      "source": [
        "print (\"Union of S1 and S2 --> \", S1.union(S2))"
      ],
      "metadata": {
        "colab": {
          "base_uri": "https://localhost:8080/"
        },
        "id": "bdPHDoD2RYST",
        "outputId": "f0111b80-395e-43b2-8258-48fc40c3f2ef"
      },
      "execution_count": null,
      "outputs": [
        {
          "output_type": "stream",
          "name": "stdout",
          "text": [
            "Union of S1 and S2 -->  {70, 40, 80, 50, 20, 90, 60}\n"
          ]
        }
      ]
    },
    {
      "cell_type": "markdown",
      "source": [
        "(v) WAP to find the intersection between S1 and S2.\n"
      ],
      "metadata": {
        "id": "94TlGsWmRl7-"
      }
    },
    {
      "cell_type": "code",
      "source": [
        "print (\"Intersection of S1,S2 --> \", S1.intersection(S2))"
      ],
      "metadata": {
        "colab": {
          "base_uri": "https://localhost:8080/"
        },
        "id": "98RbgAJORp5d",
        "outputId": "f9455fef-d169-4d7c-852b-f26cbb277d89"
      },
      "execution_count": null,
      "outputs": [
        {
          "output_type": "stream",
          "name": "stdout",
          "text": [
            "Intersection of S1,S2 -->  {40, 50, 60}\n"
          ]
        }
      ]
    },
    {
      "cell_type": "markdown",
      "source": [
        "(vi) WAP to find the S1 - S2."
      ],
      "metadata": {
        "id": "oHRru4z5Ry2n"
      }
    },
    {
      "cell_type": "code",
      "source": [
        "print (\"Difference of S1 and S2  --> \", S1 - S2)"
      ],
      "metadata": {
        "colab": {
          "base_uri": "https://localhost:8080/"
        },
        "id": "5N8YYkXAR2qh",
        "outputId": "88f161d2-d8bb-4131-94a6-9d6b3af0f656"
      },
      "execution_count": null,
      "outputs": [
        {
          "output_type": "stream",
          "name": "stdout",
          "text": [
            "Difference of S1 and S2  -->  {20}\n"
          ]
        }
      ]
    },
    {
      "cell_type": "markdown",
      "source": [
        "# *Q4. Write the following program.*"
      ],
      "metadata": {
        "id": "oZ9mgiCcSSWH"
      }
    },
    {
      "cell_type": "markdown",
      "source": [
        "(I)WAP to print 100 random strings whose length between 6 and 8.\n"
      ],
      "metadata": {
        "id": "h91uK948SZYP"
      }
    },
    {
      "cell_type": "code",
      "source": [
        "import random as r\n",
        "import string as s\n",
        "\n",
        "for i in range(100):\n",
        "    length = r.randint(6, 8)\n",
        "    word = \"\"\n",
        "    for j in range(length):\n",
        "        word= word+ r.choice(s.ascii_letters)\n",
        "    print(\"Random String -->\", word)"
      ],
      "metadata": {
        "colab": {
          "base_uri": "https://localhost:8080/"
        },
        "id": "8BHpFokpScfP",
        "outputId": "30918270-41c4-422f-dfb7-6976039ef0e5"
      },
      "execution_count": null,
      "outputs": [
        {
          "output_type": "stream",
          "name": "stdout",
          "text": [
            "Random String --> hnLSphcZ\n",
            "Random String --> HuPPAbb\n",
            "Random String --> pEXjcNjW\n",
            "Random String --> TNfKYN\n",
            "Random String --> gnfQEi\n",
            "Random String --> TJRNNxIn\n",
            "Random String --> alPfUYi\n",
            "Random String --> LyewOQl\n",
            "Random String --> uOPWkC\n",
            "Random String --> WMMXri\n",
            "Random String --> LcLRXTS\n",
            "Random String --> eEDAgq\n",
            "Random String --> KVHFFSV\n",
            "Random String --> zfzMZHhp\n",
            "Random String --> ZGvnbQ\n",
            "Random String --> xxmrhg\n",
            "Random String --> PbMwNKZ\n",
            "Random String --> xCmNfH\n",
            "Random String --> VisHjpu\n",
            "Random String --> JUHtJYb\n",
            "Random String --> PbmGue\n",
            "Random String --> JVYJMA\n",
            "Random String --> nBtUOlYt\n",
            "Random String --> BTFEsY\n",
            "Random String --> DAqmPsDl\n",
            "Random String --> eGmbukqH\n",
            "Random String --> JYiLKFDq\n",
            "Random String --> XhPhvovO\n",
            "Random String --> cUohjz\n",
            "Random String --> oWHooflW\n",
            "Random String --> MRCDeT\n",
            "Random String --> Blnrtvt\n",
            "Random String --> PtutfV\n",
            "Random String --> UpTduBXJ\n",
            "Random String --> JOoMoV\n",
            "Random String --> PkDsmmZ\n",
            "Random String --> VJpjNTF\n",
            "Random String --> RDnvOIrs\n",
            "Random String --> wkOotTj\n",
            "Random String --> IjvUhBXk\n",
            "Random String --> BKpBsm\n",
            "Random String --> JBuKoMAY\n",
            "Random String --> pOysRqk\n",
            "Random String --> smuXUXj\n",
            "Random String --> EdvdaRh\n",
            "Random String --> etIxOO\n",
            "Random String --> jdyMvid\n",
            "Random String --> Fgpytw\n",
            "Random String --> Krhlmdb\n",
            "Random String --> IGcqshN\n",
            "Random String --> rBbVdrF\n",
            "Random String --> aKOWbKy\n",
            "Random String --> lYEtionK\n",
            "Random String --> iFkTtjh\n",
            "Random String --> Ijwuqlf\n",
            "Random String --> KGygLR\n",
            "Random String --> tjRlhU\n",
            "Random String --> RjoluM\n",
            "Random String --> JEfDUNHk\n",
            "Random String --> GODtUd\n",
            "Random String --> vfoHElAl\n",
            "Random String --> jreRTY\n",
            "Random String --> FlaqLx\n",
            "Random String --> vvWidIuY\n",
            "Random String --> ZslDvfbC\n",
            "Random String --> VnrSLqYW\n",
            "Random String --> vrjNmCJS\n",
            "Random String --> WBqFUR\n",
            "Random String --> FrqmiDN\n",
            "Random String --> hVbYmN\n",
            "Random String --> ZObtcBw\n",
            "Random String --> CWwYoDe\n",
            "Random String --> OKpWluMt\n",
            "Random String --> vRIKeE\n",
            "Random String --> qOqHaTeh\n",
            "Random String --> AuRdjj\n",
            "Random String --> rBEkUa\n",
            "Random String --> FTlTAhbq\n",
            "Random String --> BnNHwC\n",
            "Random String --> TaFzlAp\n",
            "Random String --> WCYLPxq\n",
            "Random String --> eqoXdH\n",
            "Random String --> FErPwW\n",
            "Random String --> oJdpqq\n",
            "Random String --> luisIi\n",
            "Random String --> guqZCnf\n",
            "Random String --> xYyepjgs\n",
            "Random String --> GpJiNv\n",
            "Random String --> LLuBgPzz\n",
            "Random String --> REMBEtP\n",
            "Random String --> IIqKnTPh\n",
            "Random String --> qChRtU\n",
            "Random String --> eOpFzWjT\n",
            "Random String --> BWFIjoc\n",
            "Random String --> aSskNMw\n",
            "Random String --> DiEasr\n",
            "Random String --> oODDSkK\n",
            "Random String --> MJTFPWw\n",
            "Random String --> eYbTDl\n",
            "Random String --> qwbtiXsm\n"
          ]
        }
      ]
    },
    {
      "cell_type": "markdown",
      "source": [
        "(II)WAP to print all prime numbers between 600 and 800."
      ],
      "metadata": {
        "id": "4W9g5duTW8Ns"
      }
    },
    {
      "cell_type": "code",
      "source": [
        "for number in range(600, 801):\n",
        "  if number > 1:\n",
        "        for i in range(2, (number//2) + 1):\n",
        "            if number % i == 0:\n",
        "                break\n",
        "        else:\n",
        "            print(number)\n"
      ],
      "metadata": {
        "colab": {
          "base_uri": "https://localhost:8080/"
        },
        "id": "1U2oGxUuXFQ-",
        "outputId": "eb24ec0d-2a34-4aac-dcfa-8bbcf7100682"
      },
      "execution_count": null,
      "outputs": [
        {
          "output_type": "stream",
          "name": "stdout",
          "text": [
            "601\n",
            "607\n",
            "613\n",
            "617\n",
            "619\n",
            "631\n",
            "641\n",
            "643\n",
            "647\n",
            "653\n",
            "659\n",
            "661\n",
            "673\n",
            "677\n",
            "683\n",
            "691\n",
            "701\n",
            "709\n",
            "719\n",
            "727\n",
            "733\n",
            "739\n",
            "743\n",
            "751\n",
            "757\n",
            "761\n",
            "769\n",
            "773\n",
            "787\n",
            "797\n"
          ]
        }
      ]
    },
    {
      "cell_type": "markdown",
      "source": [
        "(iii) WAP to print all numbers between 100 and 1000 that are divisible by 7 and 9."
      ],
      "metadata": {
        "id": "h34Zx7rkXo3g"
      }
    },
    {
      "cell_type": "code",
      "source": [
        "for number in range(100, 1001):\n",
        "    if number % 7 == 0 and number % 9 == 0:\n",
        "        print(number)"
      ],
      "metadata": {
        "colab": {
          "base_uri": "https://localhost:8080/"
        },
        "id": "9ZrpPqiyX0BD",
        "outputId": "cfd57dbf-4a09-4292-9654-cb227ce41039"
      },
      "execution_count": null,
      "outputs": [
        {
          "output_type": "stream",
          "name": "stdout",
          "text": [
            "126\n",
            "189\n",
            "252\n",
            "315\n",
            "378\n",
            "441\n",
            "504\n",
            "567\n",
            "630\n",
            "693\n",
            "756\n",
            "819\n",
            "882\n",
            "945\n"
          ]
        }
      ]
    },
    {
      "cell_type": "markdown",
      "source": [
        "# *Q5. WAP to create two lists of 10 random numbers between 10 and 30;*"
      ],
      "metadata": {
        "id": "qArMiogTX_YA"
      }
    },
    {
      "cell_type": "code",
      "source": [
        "import random as r\n",
        "list1 = [r.randint(10, 30) for i in range(10)]\n",
        "list2 = [r.randint(10, 30) for i in range(10)]\n",
        "\n",
        "print(\"List 1:\", list1)\n",
        "print(\"List 2:\", list2)"
      ],
      "metadata": {
        "colab": {
          "base_uri": "https://localhost:8080/"
        },
        "id": "3hERTnreYQha",
        "outputId": "3956583a-18f0-44d9-a184-9c0cbe0ac517"
      },
      "execution_count": null,
      "outputs": [
        {
          "output_type": "stream",
          "name": "stdout",
          "text": [
            "List 1: [27, 18, 10, 30, 30, 12, 14, 18, 24, 12]\n",
            "List 2: [10, 16, 22, 19, 10, 29, 24, 10, 19, 23]\n"
          ]
        }
      ]
    },
    {
      "cell_type": "markdown",
      "source": [
        "(i) Common numbers in the two lists"
      ],
      "metadata": {
        "id": "9IynEDuNYJFY"
      }
    },
    {
      "cell_type": "code",
      "source": [
        "a = set(list1)\n",
        "b = set(list2)\n",
        "print(\"Common elements:\", a.intersection(b))"
      ],
      "metadata": {
        "colab": {
          "base_uri": "https://localhost:8080/"
        },
        "id": "vFGBU9cfY1hw",
        "outputId": "0c84f7a6-4232-4d87-ed0f-fa454aa2ea97"
      },
      "execution_count": null,
      "outputs": [
        {
          "output_type": "stream",
          "name": "stdout",
          "text": [
            "Common elements: {24, 10}\n"
          ]
        }
      ]
    },
    {
      "cell_type": "markdown",
      "source": [
        "(ii) Unique numbers in both the list\n"
      ],
      "metadata": {
        "id": "wk6zLNf7Y_IZ"
      }
    },
    {
      "cell_type": "code",
      "source": [
        "print (\"unique numbers  \", a.symmetric_difference(b))"
      ],
      "metadata": {
        "colab": {
          "base_uri": "https://localhost:8080/"
        },
        "id": "mwIHWq_PZSgR",
        "outputId": "126ef0ed-4b64-4d67-c155-f468d7f59fd1"
      },
      "execution_count": null,
      "outputs": [
        {
          "output_type": "stream",
          "name": "stdout",
          "text": [
            "unique numbers   {12, 14, 16, 18, 19, 22, 23, 27, 29, 30}\n"
          ]
        }
      ]
    },
    {
      "cell_type": "markdown",
      "source": [
        "(iii) Minimum in both the list"
      ],
      "metadata": {
        "id": "VGRvx31YbtWn"
      }
    },
    {
      "cell_type": "code",
      "source": [
        "print(\" Minimum in list1:\", min(list1))\n",
        "print(\" Minimum in list2:\", min(list2))"
      ],
      "metadata": {
        "colab": {
          "base_uri": "https://localhost:8080/"
        },
        "id": "teVajJ6WbuS5",
        "outputId": "a3d29d3a-a8e1-4a3e-cf23-f5d69a25e2ec"
      },
      "execution_count": null,
      "outputs": [
        {
          "output_type": "stream",
          "name": "stdout",
          "text": [
            " Minimum in list1: 10\n",
            " Minimum in list2: 10\n"
          ]
        }
      ]
    },
    {
      "cell_type": "markdown",
      "source": [
        "(iv) Maximum in both the list"
      ],
      "metadata": {
        "id": "aROyV_Wib_vR"
      }
    },
    {
      "cell_type": "code",
      "source": [
        "print(\" Maximum in list1:\", max(list1))\n",
        "print(\" Maximum in list2:\", max(list2))"
      ],
      "metadata": {
        "colab": {
          "base_uri": "https://localhost:8080/"
        },
        "id": "R82mHAUpcCqW",
        "outputId": "eff9cafd-b2ec-4ea1-ab2a-a69bccededdb"
      },
      "execution_count": null,
      "outputs": [
        {
          "output_type": "stream",
          "name": "stdout",
          "text": [
            " Maximum in list1: 30\n",
            " Maximum in list2: 29\n"
          ]
        }
      ]
    },
    {
      "cell_type": "markdown",
      "source": [
        "(v) Sum of both the lists"
      ],
      "metadata": {
        "id": "DygvJFwhcOVH"
      }
    },
    {
      "cell_type": "code",
      "source": [
        "print(\" Sum of list1:\", sum(list1))\n",
        "print(\" Sum of list2:\", sum(list2))\n",
        "print(\" Sum of both lists:\",sum(list1+list2))"
      ],
      "metadata": {
        "colab": {
          "base_uri": "https://localhost:8080/"
        },
        "id": "vvMPr8bDcQzT",
        "outputId": "e5a7c669-e09f-4e3d-b5ed-9e6d219e3d6f"
      },
      "execution_count": null,
      "outputs": [
        {
          "output_type": "stream",
          "name": "stdout",
          "text": [
            " Sum of list1: 195\n",
            " Sum of list2: 182\n",
            " Sum of both lists: 377\n"
          ]
        }
      ]
    },
    {
      "cell_type": "markdown",
      "source": [
        "#*Q6. WAP to create a list of 100 random numbers between 100 and 900. Count and print the:*"
      ],
      "metadata": {
        "id": "ffSuhSWgcwb6"
      }
    },
    {
      "cell_type": "code",
      "source": [
        "import random as r\n",
        "numbers = [r.randint(100, 900) for i in range(100)]\n",
        "print(\"Generated Numbers:\", numbers)"
      ],
      "metadata": {
        "colab": {
          "base_uri": "https://localhost:8080/"
        },
        "id": "l3v8hlUvc0qV",
        "outputId": "b2966a97-cbc0-4e1f-ac35-1ca8f7fd6614"
      },
      "execution_count": null,
      "outputs": [
        {
          "output_type": "stream",
          "name": "stdout",
          "text": [
            "Generated Numbers: [809, 136, 344, 357, 264, 348, 774, 769, 864, 591, 692, 690, 468, 269, 479, 660, 120, 126, 867, 888, 196, 326, 284, 117, 739, 647, 308, 201, 107, 744, 761, 244, 555, 815, 359, 327, 332, 148, 524, 597, 707, 174, 387, 638, 731, 183, 315, 836, 878, 527, 757, 266, 347, 128, 390, 447, 319, 826, 691, 356, 230, 721, 674, 598, 493, 157, 892, 513, 421, 521, 129, 787, 279, 303, 503, 617, 735, 462, 224, 281, 596, 665, 755, 364, 105, 299, 195, 577, 447, 170, 361, 388, 122, 857, 332, 296, 701, 482, 135, 891]\n"
          ]
        }
      ]
    },
    {
      "cell_type": "markdown",
      "source": [
        "(i) All odd numbers\n"
      ],
      "metadata": {
        "id": "BqXzC5T_diaY"
      }
    },
    {
      "cell_type": "code",
      "source": [
        "odd = [i for i  in numbers if i % 2 != 0]\n",
        "print(\"Count of Odd numbers  =\", len(odd))\n",
        "print(odd)"
      ],
      "metadata": {
        "colab": {
          "base_uri": "https://localhost:8080/"
        },
        "id": "gvhXYIMMdmR6",
        "outputId": "6e02b1ea-bdff-431e-fc70-4d28fe1bcd2c"
      },
      "execution_count": null,
      "outputs": [
        {
          "output_type": "stream",
          "name": "stdout",
          "text": [
            "Count of Odd numbers  = 55\n",
            "[809, 357, 769, 591, 269, 479, 867, 117, 739, 647, 201, 107, 761, 555, 815, 359, 327, 597, 707, 387, 731, 183, 315, 527, 757, 347, 447, 319, 691, 721, 493, 157, 513, 421, 521, 129, 787, 279, 303, 503, 617, 735, 281, 665, 755, 105, 299, 195, 577, 447, 361, 857, 701, 135, 891]\n"
          ]
        }
      ]
    },
    {
      "cell_type": "markdown",
      "source": [
        "(ii) All even numbers"
      ],
      "metadata": {
        "id": "u-EKhP_vebYe"
      }
    },
    {
      "cell_type": "code",
      "source": [
        "even = [i for i  in numbers if i % 2 == 0]\n",
        "print(\"Count of even numbers  =\", len(even))\n",
        "print(even)"
      ],
      "metadata": {
        "colab": {
          "base_uri": "https://localhost:8080/"
        },
        "id": "Pbnj3PrCed0J",
        "outputId": "9bc87177-e08e-4559-967f-1acdd5ad6587"
      },
      "execution_count": null,
      "outputs": [
        {
          "output_type": "stream",
          "name": "stdout",
          "text": [
            "Count of even numbers  = 45\n",
            "[136, 344, 264, 348, 774, 864, 692, 690, 468, 660, 120, 126, 888, 196, 326, 284, 308, 744, 244, 332, 148, 524, 174, 638, 836, 878, 266, 128, 390, 826, 356, 230, 674, 598, 892, 462, 224, 596, 364, 170, 388, 122, 332, 296, 482]\n"
          ]
        }
      ]
    },
    {
      "cell_type": "markdown",
      "source": [
        "(iii) All prime numbers"
      ],
      "metadata": {
        "id": "3gHdOeB2ep9O"
      }
    },
    {
      "cell_type": "code",
      "source": [
        "primenumber =[]\n",
        "for num in numbers:\n",
        "    if num > 1:\n",
        "      prime = True\n",
        "    for i in range(2, num//2 + 1):\n",
        "        if num % i == 0:\n",
        "            prime = False\n",
        "            break\n",
        "    if prime:\n",
        "        primenumber.append(num)\n",
        "\n",
        "print(\" Prime numbers count =\", len(primenumber))\n",
        "print(primenumber)"
      ],
      "metadata": {
        "colab": {
          "base_uri": "https://localhost:8080/"
        },
        "id": "GevYdGEEeq3n",
        "outputId": "27075cac-8265-4b7d-fbb6-03f98b6c41c9"
      },
      "execution_count": null,
      "outputs": [
        {
          "output_type": "stream",
          "name": "stdout",
          "text": [
            " Prime numbers count = 22\n",
            "[809, 769, 269, 479, 739, 647, 107, 761, 359, 757, 347, 691, 157, 421, 521, 787, 503, 617, 281, 577, 857, 701]\n"
          ]
        }
      ]
    },
    {
      "cell_type": "markdown",
      "source": [
        "# *Q7. D is a dictionary defined as D={1:\"One\",2:\"Two\",3:\"Three\",4:\"Four\", 5:\"Five\"}.*\n",
        "*WAP to read all the keys and values from dictionary and write to the file in the given below format.\n",
        "\n",
        "*Key1, Value1\n",
        "Key2, Value2\n",
        "Key3, Value3\n"
      ],
      "metadata": {
        "id": "eSihHINBgH3l"
      }
    },
    {
      "cell_type": "code",
      "source": [
        "D = {1:\"One\",2:\"Two\",3:\"Three\",4:\"Four\", 5:\"Five\"}\n",
        "print (\"Original set           --> \", D)\n",
        "print (\"Num of elements in set --> \", len(D))\n",
        "\n",
        "with open(\"output.txt\", \"w\") as file:\n",
        "    for key, value in D.items():\n",
        "        file.write(f\"{key}, {value} \")"
      ],
      "metadata": {
        "colab": {
          "base_uri": "https://localhost:8080/"
        },
        "id": "fKyfuJnwgQTa",
        "outputId": "f32ece86-f3ea-457a-fc31-9a523d2a590a"
      },
      "execution_count": null,
      "outputs": [
        {
          "output_type": "stream",
          "name": "stdout",
          "text": [
            "Original set           -->  {1: 'One', 2: 'Two', 3: 'Three', 4: 'Four', 5: 'Five'}\n",
            "Num of elements in set -->  5\n"
          ]
        }
      ]
    },
    {
      "cell_type": "markdown",
      "source": [
        "#*Q8. L is a list defined as L={\"One\",\"Two\",\"Three\",\"Four\",\"Five\"}.*\n",
        "* WAP to count the length of reach element from a list and write to the file in the given below format:\n",
        "*One, 3\n",
        "Two, 3\n",
        "Four, 4"
      ],
      "metadata": {
        "id": "X4rPYabHisJK"
      }
    },
    {
      "cell_type": "code",
      "source": [
        "L = {\"One\", \"Two\", \"Three\", \"Four\", \"Five\"}\n",
        "\n",
        "with open(\"length.txt\", \"w\") as file:\n",
        "    for words in L:\n",
        "        file.write(f\"{words}, {len(words)}\\n\")"
      ],
      "metadata": {
        "id": "DSho4LG8i3hN"
      },
      "execution_count": null,
      "outputs": []
    },
    {
      "cell_type": "markdown",
      "source": [
        "#*Q9. Write to the file 100 random strings whose length between 10 and 15*"
      ],
      "metadata": {
        "id": "kB4sdANlj2-B"
      }
    },
    {
      "cell_type": "code",
      "source": [
        "import random as r\n",
        "import string as s\n",
        "with open(\"random strings.txt\", \"w\") as file:\n",
        " for i in range(100):\n",
        "    length = r.randint(10, 15)\n",
        "    word = \"\"\n",
        "    for j in range(length):\n",
        "        word= word+ r.choice(s.ascii_letters)\n",
        "    file.write(word + \"\\n\")"
      ],
      "metadata": {
        "id": "wSIB3KvBkDFL"
      },
      "execution_count": null,
      "outputs": []
    },
    {
      "cell_type": "markdown",
      "source": [
        "#*Q10. Write to the file all prime numbers between 600 and 800.*"
      ],
      "metadata": {
        "id": "29DOVs_rxO-7"
      }
    },
    {
      "cell_type": "code",
      "source": [
        "for number in range(600, 801):\n",
        "  if number > 1:\n",
        "        for i in range(2, (number//2) + 1):\n",
        "            if number % i == 0:\n",
        "                break\n",
        "        else:\n",
        "            print(number)"
      ],
      "metadata": {
        "colab": {
          "base_uri": "https://localhost:8080/"
        },
        "id": "zE87Brd5xX9j",
        "outputId": "b85b22b7-1a0c-4e83-c64e-b90af1761724"
      },
      "execution_count": null,
      "outputs": [
        {
          "output_type": "stream",
          "name": "stdout",
          "text": [
            "601\n",
            "607\n",
            "613\n",
            "617\n",
            "619\n",
            "631\n",
            "641\n",
            "643\n",
            "647\n",
            "653\n",
            "659\n",
            "661\n",
            "673\n",
            "677\n",
            "683\n",
            "691\n",
            "701\n",
            "709\n",
            "719\n",
            "727\n",
            "733\n",
            "739\n",
            "743\n",
            "751\n",
            "757\n",
            "761\n",
            "769\n",
            "773\n",
            "787\n",
            "797\n"
          ]
        }
      ]
    },
    {
      "cell_type": "markdown",
      "source": [
        "#*Q11. WAP to calculate the time taken by a program.*\n"
      ],
      "metadata": {
        "id": "e5uKxtV3xmkl"
      }
    },
    {
      "cell_type": "code",
      "source": [
        "import time as t\n",
        "\n",
        "start = t.time()\n",
        "\n",
        "total = 0\n",
        "for i in range(1,100001):\n",
        "    total= total+ i\n",
        "\n",
        "end = t.time()\n",
        "\n",
        "timetotal = end - start\n",
        "print(\"Time taken by : {:.4f} seconds\".format(timetotal))\n"
      ],
      "metadata": {
        "colab": {
          "base_uri": "https://localhost:8080/"
        },
        "id": "TestTczNxsYm",
        "outputId": "6650feaa-0387-4e00-8691-2da3f6c2feee"
      },
      "execution_count": null,
      "outputs": [
        {
          "output_type": "stream",
          "name": "stdout",
          "text": [
            "Time taken by : 0.0144 seconds\n"
          ]
        }
      ]
    },
    {
      "cell_type": "markdown",
      "source": [
        "#*Q12. WAP to sort following number of elements in a list, calculate time taken and plot the graph*\n",
        "\n",
        "![Screenshot 2025-06-11 215605.png](data:image/png;base64,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)"
      ],
      "metadata": {
        "id": "xlqw7QJIzzg0"
      }
    },
    {
      "cell_type": "code",
      "source": [
        "import time as t\n",
        "import random as r\n",
        "import matplotlib.pyplot as plt\n",
        "\n",
        "\n",
        "elements = [5000, 10000, 15000, 20000, 25000]\n",
        "timings = []\n",
        "\n",
        "for number in elements:\n",
        "     lst = [r.randint(1, 10000) for i in range(number)]\n",
        "\n",
        "     start = t.time()\n",
        "     sortlist = sorted(lst)\n",
        "     end = t.time()\n",
        "\n",
        "     timetaken = end - start\n",
        "     timings.append(timetaken)\n",
        "\n",
        "plt.plot(elements, timings, marker='o', color='blue')\n",
        "plt.title('List elements vs. SortTime')\n",
        "plt.xlabel('Number of Elements in List')\n",
        "plt.ylabel('Time Taken (seconds)')\n",
        "plt.grid(True)\n",
        "plt.show()\n"
      ],
      "metadata": {
        "colab": {
          "base_uri": "https://localhost:8080/",
          "height": 472
        },
        "id": "SFxPNmkM0UQm",
        "outputId": "501a48d4-ff5a-4fa7-f96c-8c2dcc4bdef8"
      },
      "execution_count": null,
      "outputs": [
        {
          "output_type": "display_data",
          "data": {
            "text/plain": [
              "<Figure size 640x480 with 1 Axes>"
            ],
            "image/png": "[encoded data removed]"
          },
          "metadata": {}
        }
      ]
    },
    {
      "cell_type": "markdown",
      "source": [
        "#*Q13. WAP to create a dictionary of student marks in five subjects and you have to find the student having maximum and minimum average marks.*"
      ],
      "metadata": {
        "id": "45bhKEpd2mmk"
      }
    },
    {
      "cell_type": "code",
      "source": [
        "students = {\n",
        "    \"Adi\": [85, 90, 88, 92, 80],\n",
        "    \"Bhumi\": [78, 81, 86, 80, 79],\n",
        "    \"Riya\": [90, 88, 91, 85, 89],\n",
        "    \"Dhruv\": [70, 75, 72, 68, 74],\n",
        "    \"Ekta\": [88, 92, 84, 90, 87]}\n",
        "\n",
        "maxtotal = 0\n",
        "topstudent = \"\"\n",
        "\n",
        "minaverage = float('inf')\n",
        "weakstudent = \"\"\n",
        "\n",
        "for name, marks in students.items():\n",
        "    total = sum(marks)\n",
        "    average = total / len(marks)\n",
        "\n",
        "    if total > maxtotal:\n",
        "        maxtotal = total\n",
        "        topstudent = name\n",
        "\n",
        "    if average < minaverage:\n",
        "        minaverage = average\n",
        "        weakstudent = name\n",
        "\n",
        "print(\"Top Student:\", topstudent)\n",
        "print(\"Highest Total Marks:\", maxtotal)\n",
        "\n",
        "print(\"Student with Lowest Average:\", weakstudent)\n",
        "print(\"Lowest Average Marks: {:.2f}\",minaverage)\n",
        "\n"
      ],
      "metadata": {
        "colab": {
          "base_uri": "https://localhost:8080/"
        },
        "id": "kzKA8XG53DmD",
        "outputId": "ca0885f8-4e21-4faf-d0dc-f1bb287f8b05"
      },
      "execution_count": null,
      "outputs": [
        {
          "output_type": "stream",
          "name": "stdout",
          "text": [
            "Top Student: Riya\n",
            "Highest Total Marks: 443\n",
            "Student with Lowest Average: Dhruv\n",
            "Lowest Average Marks: {:.2f} 71.8\n"
          ]
        }
      ]
    }
  ]
}