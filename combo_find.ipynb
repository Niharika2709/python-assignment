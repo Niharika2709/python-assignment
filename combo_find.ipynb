{
  "nbformat": 4,
  "nbformat_minor": 0,
  "metadata": {
    "colab": {
      "provenance": [],
      "authorship_tag": "ABX9TyOhGXN6kEwdkUSmX8BgGqmE",
      "include_colab_link": true
    },
    "kernelspec": {
      "name": "python3",
      "display_name": "Python 3"
    },
    "language_info": {
      "name": "python"
    }
  },
  "cells": [
    {
      "cell_type": "markdown",
      "metadata": {
        "id": "view-in-github",
        "colab_type": "text"
      },
      "source": [
        "<a href=\"https://colab.research.google.com/github/Niharika2709/python-assignment/blob/main/combo_find.ipynb\" target=\"_parent\"><img src=\"https://colab.research.google.com/assets/colab-badge.svg\" alt=\"Open In Colab\"/></a>"
      ]
    },
    {
      "cell_type": "markdown",
      "source": [
        "\n",
        "#*ComboFinder*\n",
        "***Problem Statement:***\n",
        "\n",
        "Find all the list of products whose sum-of-price is between 290 and 310.\n",
        "\n",
        "ProductList = {p1:10, p2:15, p3:20, p4:25, p5:30, p6:35, p7:50}\n",
        "\n",
        "\n",
        "\n"
      ],
      "metadata": {
        "id": "uk2orXvNMvrW"
      }
    },
    {
      "cell_type": "code",
      "execution_count": 4,
      "metadata": {
        "colab": {
          "base_uri": "https://localhost:8080/"
        },
        "id": "0iQT6SQRMuMs",
        "outputId": "a31440e8-5376-41fe-a5c6-cda4f951da55"
      },
      "outputs": [
        {
          "output_type": "stream",
          "name": "stdout",
          "text": [
            "\n",
            " Total valid combinations found: 43\n",
            "\n",
            "('p1', 'p10', 'p11', 'p12', 'p14', 'p7') → ₹305\n",
            "('p1', 'p10', 'p11', 'p12', 'p2', 'p4', 'p7') → ₹300\n",
            "('p1', 'p10', 'p11', 'p13', 'p14', 'p9') → ₹305\n",
            "('p1', 'p10', 'p11', 'p14', 'p3', 'p4', 'p5', 'p8') → ₹295\n",
            "('p1', 'p10', 'p12', 'p13', 'p14', 'p3', 'p5') → ₹310\n",
            "('p1', 'p10', 'p12', 'p2', 'p3', 'p5', 'p6', 'p7') → ₹295\n",
            "('p1', 'p10', 'p12', 'p2', 'p6', 'p7', 'p9') → ₹300\n",
            "('p1', 'p10', 'p13', 'p14', 'p3', 'p4', 'p5', 'p7') → ₹310\n",
            "('p1', 'p10', 'p14', 'p2', 'p3', 'p4', 'p6', 'p8', 'p9') → ₹305\n",
            "('p1', 'p11', 'p12', 'p13', 'p14', 'p2', 'p4') → ₹305\n",
            "('p1', 'p11', 'p12', 'p13', 'p2', 'p3', 'p7') → ₹305\n",
            "('p1', 'p11', 'p12', 'p14', 'p2', 'p3', 'p5', 'p8') → ₹300\n",
            "('p1', 'p11', 'p12', 'p2', 'p4', 'p5', 'p7', 'p8') → ₹310\n",
            "('p1', 'p11', 'p12', 'p2', 'p4', 'p7', 'p9') → ₹295\n",
            "('p1', 'p11', 'p13', 'p2', 'p6', 'p8', 'p9') → ₹290\n",
            "('p1', 'p11', 'p14', 'p2', 'p4', 'p7', 'p8', 'p9') → ₹305\n",
            "('p1', 'p12', 'p13', 'p2', 'p3', 'p4', 'p8', 'p9') → ₹310\n",
            "('p1', 'p12', 'p13', 'p2', 'p5', 'p6', 'p9') → ₹290\n",
            "('p1', 'p12', 'p13', 'p4', 'p5', 'p6', 'p7') → ₹295\n",
            "('p1', 'p12', 'p2', 'p3', 'p4', 'p5', 'p6', 'p8', 'p9') → ₹305\n",
            "('p1', 'p13', 'p14', 'p2', 'p3', 'p4', 'p7', 'p9') → ₹290\n",
            "('p1', 'p13', 'p14', 'p4', 'p7', 'p8', 'p9') → ₹295\n",
            "('p1', 'p14', 'p2', 'p3', 'p5', 'p6', 'p7', 'p8', 'p9') → ₹300\n",
            "('p10', 'p11', 'p12', 'p14', 'p2', 'p3', 'p4') → ₹305\n",
            "('p10', 'p11', 'p13', 'p4', 'p5', 'p7') → ₹300\n",
            "('p10', 'p11', 'p14', 'p2', 'p7', 'p9') → ₹290\n",
            "('p10', 'p11', 'p14', 'p5', 'p8', 'p9') → ₹295\n",
            "('p10', 'p12', 'p13', 'p6', 'p7') → ₹290\n",
            "('p10', 'p12', 'p14', 'p2', 'p3', 'p6', 'p8') → ₹290\n",
            "('p10', 'p12', 'p14', 'p2', 'p3', 'p8', 'p9') → ₹310\n",
            "('p10', 'p12', 'p2', 'p3', 'p5', 'p7', 'p8') → ₹290\n",
            "('p10', 'p12', 'p2', 'p3', 'p5', 'p8', 'p9') → ₹295\n",
            "('p10', 'p12', 'p2', 'p4', 'p5', 'p7', 'p8') → ₹295\n",
            "('p10', 'p13', 'p14', 'p2', 'p3', 'p4', 'p6', 'p8') → ₹310\n",
            "('p10', 'p13', 'p14', 'p4', 'p5', 'p6', 'p8') → ₹305\n",
            "('p10', 'p13', 'p3', 'p4', 'p6', 'p7', 'p8') → ₹300\n",
            "('p10', 'p14', 'p2', 'p3', 'p4', 'p5', 'p8', 'p9') → ₹290\n",
            "('p11', 'p12', 'p13', 'p6', 'p9') → ₹300\n",
            "('p11', 'p12', 'p14', 'p3', 'p6', 'p9') → ₹295\n",
            "('p11', 'p13', 'p2', 'p3', 'p4', 'p5', 'p6', 'p8') → ₹300\n",
            "('p12', 'p13', 'p14', 'p5', 'p6', 'p9') → ₹310\n",
            "('p13', 'p14', 'p2', 'p3', 'p4', 'p6', 'p8', 'p9') → ₹305\n",
            "('p13', 'p14', 'p2', 'p6', 'p7', 'p8', 'p9') → ₹310\n"
          ]
        }
      ],
      "source": [
        "import random as r\n",
        "ProductList = {'p1':10, 'p2':15, 'p3':20, 'p4':25, 'p5':30, 'p6':35, 'p7':50,\n",
        "               'p8':40, 'p9':55, 'p10':60, 'p11':65, 'p12':75, 'p13':70,\n",
        "               'p14':45}\n",
        "LB          = 290\n",
        "UB          = 310\n",
        "ResultList  = set()\n",
        "Iterations  = 1000\n",
        "\n",
        "products = list(ProductList.keys())\n",
        "for i in range(Iterations):\n",
        "    r.shuffle(products)\n",
        "\n",
        "    subset_size = r.randint(2, len(products))\n",
        "    chosen = products[:subset_size]\n",
        "    total_price = sum(ProductList[p] for p in chosen)\n",
        "    if LB <= total_price <= UB:\n",
        "        ResultList.add(tuple(sorted(chosen)))\n",
        "\n",
        "\n",
        "print(f\"\\n Total valid combinations found: {len(ResultList)}\\n\")\n",
        "for combo in sorted(ResultList):\n",
        "    total = sum(ProductList[p] for p in combo)\n",
        "    print(f\"{combo} → ₹{total}\")"
      ]
    }
  ]
}