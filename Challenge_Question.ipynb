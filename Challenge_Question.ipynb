{
  "nbformat": 4,
  "nbformat_minor": 0,
  "metadata": {
    "colab": {
      "provenance": [],
      "authorship_tag": "ABX9TyNgsklnmZGYuUZgFi4Xrd2y",
      "include_colab_link": true
    },
    "kernelspec": {
      "name": "python3",
      "display_name": "Python 3"
    },
    "language_info": {
      "name": "python"
    }
  },
  "cells": [
    {
      "cell_type": "markdown",
      "metadata": {
        "id": "view-in-github",
        "colab_type": "text"
      },
      "source": [
        "<a href=\"https://colab.research.google.com/github/Niharika2709/python-assignment/blob/main/Challenge_Question.ipynb\" target=\"_parent\"><img src=\"https://colab.research.google.com/assets/colab-badge.svg\" alt=\"Open In Colab\"/></a>"
      ]
    },
    {
      "cell_type": "markdown",
      "source": [
        "# *1. Write a python program to sort the list of heterogeneous data.*\n",
        "e.g.\n",
        "L = [\"Ram\", 1, \"Shyam\", 2, \"Aman\", 3]\n",
        "\n",
        "print(L)\n",
        "\n",
        "L.sort()\n",
        "\n",
        "print(L)\n",
        "\n",
        " Above code gives error. Correct it"
      ],
      "metadata": {
        "id": "icuRYfqQ9qBB"
      }
    },
    {
      "cell_type": "code",
      "source": [
        "L = [\"Ram\", 1, \"Shyam\", 2, \"Aman\", 3]\n",
        "print(\"Original list:\", L)\n",
        "\n",
        "strings = [x for x in L if isinstance(x, str)]\n",
        "numbers = [x for x in L if isinstance(x, int)]\n",
        "\n",
        "strings.sort()\n",
        "numbers.sort()\n",
        "\n",
        "sortedL = strings + numbers\n",
        "print(\"Sorted strings and numbers separately:\", sortedL)\n"
      ],
      "metadata": {
        "colab": {
          "base_uri": "https://localhost:8080/"
        },
        "id": "jP6SJgJW9_TY",
        "outputId": "bd5e6af9-21cc-45a4-a55b-2af0711bddc8"
      },
      "execution_count": 3,
      "outputs": [
        {
          "output_type": "stream",
          "name": "stdout",
          "text": [
            "Original list: ['Ram', 1, 'Shyam', 2, 'Aman', 3]\n",
            "Sorted strings and numbers separately: ['Aman', 'Ram', 'Shyam', 1, 2, 3]\n"
          ]
        }
      ]
    }
  ]
}